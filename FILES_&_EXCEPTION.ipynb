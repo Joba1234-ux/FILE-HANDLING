{
  "nbformat": 4,
  "nbformat_minor": 0,
  "metadata": {
    "colab": {
      "provenance": []
    },
    "kernelspec": {
      "name": "python3",
      "display_name": "Python 3"
    },
    "language_info": {
      "name": "python"
    }
  },
  "cells": [
    {
      "cell_type": "code",
      "execution_count": 1,
      "metadata": {
        "colab": {
          "base_uri": "https://localhost:8080/",
          "height": 106
        },
        "collapsed": true,
        "id": "XpOF9EH3WkWh",
        "outputId": "c8d525d1-1a93-480c-de81-c79646d0f284"
      },
      "outputs": [
        {
          "output_type": "error",
          "ename": "SyntaxError",
          "evalue": "invalid character '—' (U+2014) (<ipython-input-1-039c280d8732>, line 12)",
          "traceback": [
            "\u001b[0;36m  File \u001b[0;32m\"<ipython-input-1-039c280d8732>\"\u001b[0;36m, line \u001b[0;32m12\u001b[0m\n\u001b[0;31m    events that occur while your program is running — without crashing the program.\u001b[0m\n\u001b[0m                                                    ^\u001b[0m\n\u001b[0;31mSyntaxError\u001b[0m\u001b[0;31m:\u001b[0m invalid character '—' (U+2014)\n"
          ]
        }
      ],
      "source": [
        "#1. What is the difference between interpreted and compiled languages.\n",
        "\n",
        "-- *COMPILED LANGUAGE:-\n",
        "In compiled languages, the code you write (called source code) is translated\n",
        "ahead of time into machine code (binary) by a compiler.\n",
        " *INTERPRETD LANGUAGE:-\n",
        "In interpreted languages, the code is executed line-by-line or in chunks by an\n",
        " interpreter at runtime.\n",
        "\n",
        "#2. What is exception handling in Python?\n",
        "-- Exception handling in Python is a way to manage errors or unexpected\n",
        "events that occur while your program is running — without crashing the program.\n",
        "We use exceptional handling to:\n",
        "*Prevent crashes\n",
        "*Handle different types of errors gracefully\n",
        "*Provide meaningful error messages\n",
        "*Maintain normal program flow\n",
        "\n",
        "#3.What is the purpose of the finally block in exception handling?\n",
        "-- The \"finally\" block in Python is used to define cleanup actions that must be\n",
        " executed no matter what — whether an exception was raised or not.\n",
        "\n",
        "#4. What is logging in Python?\n",
        "-- Logging in Python is the process of recording messages about a program\n",
        " execution. These messages can help you:\n",
        "\n",
        "*Monitor the flow of your application\n",
        "*Debug issues\n",
        "*Track errors and exceptions\n",
        "*Audit operations for security or usag\n",
        "\n",
        "#5. What is the significance of the __del__ method in Python?\n",
        "--The \"Del\" method in Python is called a destructor. It is a special method\n",
        "that is  automatically called when an object is about to be destroyed,\n",
        "typically when there are no more references to it.\n",
        "\n",
        "#6.What is the difference between import and from ... import in Python?\n",
        "-- *Import Module:-\n",
        "This imports the entire module, and you access its contents using \".\" notation.\n",
        "It also prevents name clashes, and we always get to know the function is coming\n",
        "from.\n",
        "* from...import module:-\n",
        "This imports a specific function, class, or variable directly into your\n",
        "namespace.\n",
        "It takes less time and is useful only if we are using only few things.\n",
        "\n",
        "#7.  How can you handle multiple exceptions in Python?\n",
        "-- *Multiple except Blocks\n",
        "  *Single except Block with a Tuple\n",
        "  *Catching All Exceptions\n",
        "\n",
        "#8. What is the purpose of the with statement when handling files in Python?\n",
        "-- The \"with\" statement in Python is used to manage resources like files.\n",
        "Its main purpose is to automatically handle setup and cleanup especially\n",
        "closing files, even if an error occurs.\n",
        "\n",
        "#9.  What is the difference between multithreading and multiprocessing?\n",
        "-- *Multithreading:-\n",
        "It Uses multiple threads within the same process.All threads share\n",
        "the same memory space.\n",
        "   *Multiprocessing:-\n",
        "It separate processes, each with its own Python interpreter and memory.\n",
        "Great for CPU-bound tasks.\n",
        "\n",
        "#10. What are the advantages of using logging in a program?\n",
        "-- Logging is a powerful alternative to using print() statements. It provides\n",
        "a structured, configurable, and professional way to track what your program is\n",
        "doing — both during development and in production.\n",
        "The advantages are:-\n",
        "*Better Debugging and Issue Tracking\n",
        "*Saves Logs to Files\n",
        "*Support security level\n",
        "*safe and cleaner then Print()\n",
        "\n",
        "#11. What is memory management in Python?\n",
        "--Memory Managemnt refers to the process of allocating, using, and freeing\n",
        "memory used by variables, objects, and data structures during a programs\n",
        "execution.Python handles memory automatically, which you usually dont have.\n",
        "\n",
        "#12. What are the basic steps involved in exception handling in Python?\n",
        "-- *Try Block\n",
        "    *Except Block\n",
        "    *Else block\n",
        "    *finally block\n",
        "\n",
        "#13. Why is memory management important in Python?\n",
        "--Memory managemt is important because:-\n",
        "   *Avoids Memory Leaks\n",
        "   *Improves performance\n",
        "   *support long running applications\n",
        "   *optimize resource use\n",
        "\n",
        "#14. What is the role of try and except in exception handling?\n",
        "--*Try block:-\n",
        "The try block contains code that might raise an exception.\n",
        "Python will attempt to run this code.\n",
        "If everything runs correctly, Python skips the except block.\n",
        "If an error occurs, Python jumps immediately to the matching except.\n",
        "  *Except block:-\n",
        "The except block lets you respond to the error without crashing the program.\n",
        "You can catch specific exceptions or use a general one like except Exception.\n",
        "You can also access the error object for logging\n",
        "\n",
        "#15. How does Python's garbage collection system work?\n",
        "--Python garbage collection (GC) system is responsible for automatically\n",
        "freeing memory by removing objects that are no longer needed\n",
        "helping you avoid memory leaks and keep your program efficient.\n",
        "\n",
        "#16.  What is the purpose of the else block in exception handling?\n",
        "--The else block in Python’s try-except structure is used to define\n",
        " code that should only run if no exceptions occur in the try block.\n",
        "\n",
        "#17. What are the common logging levels in Python?\n",
        " --Python logging module provides standard logging levels to categorize the\n",
        " importance or severity of log messages. These levels help you control what\n",
        " gets logged and filter out noise during debugging or in production.\n",
        "\n",
        "\n",
        "#18. What is the difference between os.fork() and multiprocessing in Python?\n",
        "-- *os.fork():-\n",
        "Creates a child process by duplicating the current process.\n",
        "returns 0 to the child process, and the child to the parent.\n",
        "low level Unix-only\n",
        "Do not provide built-in ways to communicate between processes\n",
        "*Multiprocessing:-\n",
        "High-level abstraction for creating and managing processes.\n",
        "Works across Windows, macOS, and Linux.\n",
        "Supports process-safe data sharing .\n",
        "\n",
        "#19. What is the importance of closing a file in Python?\n",
        "--Closing file is important because:-\n",
        "*Releases System Resources\n",
        "*Flushes data to disk\n",
        "*Locks and Concurrency\n",
        "*Prevents data corruption\n",
        "\n",
        "#20. What is the difference between file.read() and file.readline() in Python?\n",
        "--*File read():-\n",
        "Reads the entire file ,or up to size bytes/characters if specified.\n",
        "Returns a single string containing the file content.\n",
        "Useful for reading all content at once.\n",
        "*File readline:-\n",
        "Reads only one line from the file at a time.\n",
        "Returns the line as a string, including the newline character.\n",
        "Useful when reading line by line, especially for large file.\n",
        "\n",
        "#21. What is the logging module in Python used for?\n",
        "--The logging module in Python is used to record events, errors,\n",
        "and diagnostic information during program execution. It helps you monitor,\n",
        "debug, and maintain your code more effectively — especially in larger\n",
        "applications.\n",
        "\n",
        "#22. What is the os module in Python used for in file handling?\n",
        "--The os module in Python provides a way to interact with the operating system,\n",
        "including a wide range of file and directory handling functions.\n",
        "It allows you to perform tasks such as creating, deleting, renaming,\n",
        "and navigating files and folders.\n",
        "\n",
        "#23. What are the challenges associated with memory management in Python?\n",
        "--The challenges associated with Memory Management in python are:-\n",
        "*Circular References\n",
        "*Memory Bloat from Large Objects\n",
        "*Memory leaks\n",
        "*Mutability and object reference.\n",
        "*Poor Use of Generators or Lazy Evaluation\n",
        "\n",
        "#24.   How do you raise an exception manually in Python?\n",
        "--In Python, you can manually raise an exception using the raise keyword.\n",
        "This is useful when you want to flag an error condition or enforce specific\n",
        "rules in your code.\n",
        "\n",
        "#25. Why is it important to use multithreading in certain applications?\n",
        "--It is importat to use multithreading in certain applications because:-\n",
        "*Improved Responsiveness\n",
        "*Faster Operations\n",
        "*Parallelism in Background Tasks\n",
        "*Resource sharing\n",
        "*Lower overhead than multiprocessing.\n",
        "\n",
        "\n",
        "\n",
        "\n",
        "\n",
        "\n",
        "\n",
        "\n",
        "\n",
        "\n"
      ]
    },
    {
      "cell_type": "code",
      "source": [
        "#1.  How can you open a file for writing in Python and write a string to it?\n",
        "\n",
        "with open(\"example.txt\", \"w\") as file:\n",
        "    file.write(\"Hello, this is a sample text written to the file!\")\n",
        "print(\"File written successfully.\")\n"
      ],
      "metadata": {
        "colab": {
          "base_uri": "https://localhost:8080/"
        },
        "id": "7msNLzatfPse",
        "outputId": "d9944f82-3698-4ab1-cdac-f093001f724c"
      },
      "execution_count": 3,
      "outputs": [
        {
          "output_type": "stream",
          "name": "stdout",
          "text": [
            "File written successfully.\n"
          ]
        }
      ]
    },
    {
      "cell_type": "code",
      "source": [
        "#2. Write a Python program to read the contents of a file and print each line\n",
        "\n",
        "with open(\"example.txt\", \"r\") as file:\n",
        "        for line in file:\n",
        "         print(line.strip())"
      ],
      "metadata": {
        "colab": {
          "base_uri": "https://localhost:8080/"
        },
        "id": "IQqRUbB3u2vs",
        "outputId": "8434405f-bc18-4446-d897-21c955f5794b"
      },
      "execution_count": 5,
      "outputs": [
        {
          "output_type": "stream",
          "name": "stdout",
          "text": [
            "Hello, this is a sample text written to the file!\n"
          ]
        }
      ]
    },
    {
      "cell_type": "code",
      "source": [
        "#3.  How would you handle a case where the file doesn't exist while trying to open it for reading\n",
        "\n",
        "filename = \"x.txt\"\n",
        "try:\n",
        "  with open(filename, \"r\") as file:\n",
        "        contents = file.read()\n",
        "        print(contents)\n",
        "except FileNotFoundError:\n",
        "    print(f\"The file \"{x.txt}\" does not exist.\")\n"
      ],
      "metadata": {
        "colab": {
          "base_uri": "https://localhost:8080/",
          "height": 106
        },
        "id": "pAJHf8s6QjoM",
        "outputId": "80a66978-3a21-46b6-9eff-3321a6e93841"
      },
      "execution_count": 4,
      "outputs": [
        {
          "output_type": "error",
          "ename": "SyntaxError",
          "evalue": "invalid syntax. Perhaps you forgot a comma? (<ipython-input-4-27ae60505067>, line 9)",
          "traceback": [
            "\u001b[0;36m  File \u001b[0;32m\"<ipython-input-4-27ae60505067>\"\u001b[0;36m, line \u001b[0;32m9\u001b[0m\n\u001b[0;31m    print(f\"The file \"{x.txt}\" does not exist.\")\u001b[0m\n\u001b[0m          ^\u001b[0m\n\u001b[0;31mSyntaxError\u001b[0m\u001b[0;31m:\u001b[0m invalid syntax. Perhaps you forgot a comma?\n"
          ]
        }
      ]
    },
    {
      "cell_type": "code",
      "source": [
        "#4. Write a Python script that reads from one file and writes its content to another file\n",
        "\n",
        "try:\n",
        "  with open(\"source.txt\", \"r\") as src, open(\"dest.txt\", \"w\") as dest:\n",
        "     dest.write(src.read())\n",
        "     print(\"File copied successfully.\")\n",
        "except FileNotFoundError:\n",
        "  print(\"file not found.\")\n"
      ],
      "metadata": {
        "colab": {
          "base_uri": "https://localhost:8080/"
        },
        "id": "fXj5TwD6BUMG",
        "outputId": "2eb34ce3-543c-44fb-d615-16fab7acaaf0"
      },
      "execution_count": 8,
      "outputs": [
        {
          "output_type": "stream",
          "name": "stdout",
          "text": [
            "file not found.\n"
          ]
        }
      ]
    },
    {
      "cell_type": "code",
      "source": [
        "#5. How would you catch and handle division by zero error in Python?\n",
        "\n",
        "try:\n",
        "  result = 10 / 0\n",
        "except ZeroDivisionError :\n",
        "  print(\"here i am getting zero division error!\")\n",
        "else:\n",
        " print(\"Result is\", result)\n"
      ],
      "metadata": {
        "colab": {
          "base_uri": "https://localhost:8080/"
        },
        "id": "v5TxS8XXzPZp",
        "outputId": "b79a3527-c895-4e8e-cf29-b15d0a0ff930"
      },
      "execution_count": 16,
      "outputs": [
        {
          "output_type": "stream",
          "name": "stdout",
          "text": [
            "here i am getting zero division error!\n"
          ]
        }
      ]
    },
    {
      "cell_type": "code",
      "source": [
        "#6. Write a Python program that logs an error message to a log file when a division by zero exception occurs\n",
        "\n",
        "import logging\n",
        "logging.basicConfig(filename='error.log', level=logging.error,format='%(asctime)s - %(levelname)s - %(message)s')\n",
        "\n",
        "try:\n",
        " result = 5 / 0\n",
        "except ZeroDivisionError as e:\n",
        "    logging.error(\"Division by zero error occurred: %s\", e)\n",
        "    print(\"ERROR ,Check the log file for details.\")\n"
      ],
      "metadata": {
        "colab": {
          "base_uri": "https://localhost:8080/"
        },
        "id": "wf-1u9mEz79M",
        "outputId": "bf340066-57ba-4195-eb06-8fde60fd5305"
      },
      "execution_count": 11,
      "outputs": [
        {
          "output_type": "stream",
          "name": "stderr",
          "text": [
            "ERROR:root:Division by zero error occurred: division by zero\n"
          ]
        },
        {
          "output_type": "stream",
          "name": "stdout",
          "text": [
            "An error occurred. Check the log file for details.\n"
          ]
        }
      ]
    },
    {
      "cell_type": "code",
      "source": [
        "#7. F How do you log information at different levels (INFO, ERROR, WARNING) in Python using the logging module\n",
        "\n",
        "import logging\n",
        "\n",
        "logging.basicConfig(level=logging.debug, format='%(levelname)s: %(message)s')\n",
        "logging.info(\"This is an info message.\")\n",
        "logging.warning(\"This is a warning message.\")\n",
        "logging.error(\"This is an error message.\")\n"
      ],
      "metadata": {
        "colab": {
          "base_uri": "https://localhost:8080/"
        },
        "id": "aPkS8B5y09N2",
        "outputId": "83cf50e5-d24c-41d4-f7ea-71a2582178ad"
      },
      "execution_count": 12,
      "outputs": [
        {
          "output_type": "stream",
          "name": "stderr",
          "text": [
            "WARNING:root:This is a warning message.\n",
            "ERROR:root:This is an error message.\n"
          ]
        }
      ]
    },
    {
      "cell_type": "code",
      "source": [
        "#8.  Write a program to handle a file opening error using exception handling?\n",
        "\n",
        "filename = \"x.txt\"\n",
        "try:\n",
        " with open(filename, \"r\") as file:\n",
        "   content = file.read()\n",
        "   print(content)\n",
        "except FileNotFoundError:\n",
        "  print(f\"The file '{filename}' was not found.\")\n",
        "except IOError:\n",
        " print(f\"Could not read the file '{filename}'.\")\n",
        "\n",
        "\n"
      ],
      "metadata": {
        "colab": {
          "base_uri": "https://localhost:8080/"
        },
        "id": "BGLjmMqf1h_5",
        "outputId": "e48d6600-cf7b-47ec-d35b-f4c758cdc26e"
      },
      "execution_count": 20,
      "outputs": [
        {
          "output_type": "stream",
          "name": "stdout",
          "text": [
            "The file 'x.txt' was not found.\n"
          ]
        }
      ]
    },
    {
      "cell_type": "code",
      "source": [
        "#9. How can you read a file line by line and store its content in a list in Python\n",
        "\n",
        "with open(\"example.txt\", \"r\") as file:\n",
        " lines = file.readlines()\n",
        "\n"
      ],
      "metadata": {
        "colab": {
          "base_uri": "https://localhost:8080/",
          "height": 211
        },
        "id": "MiIYRrqq8RW0",
        "outputId": "c9a035eb-7e58-450c-cf05-42710f823340"
      },
      "execution_count": 22,
      "outputs": [
        {
          "output_type": "error",
          "ename": "FileNotFoundError",
          "evalue": "[Errno 2] No such file or directory: 'example.txt'",
          "traceback": [
            "\u001b[0;31m---------------------------------------------------------------------------\u001b[0m",
            "\u001b[0;31mFileNotFoundError\u001b[0m                         Traceback (most recent call last)",
            "\u001b[0;32m<ipython-input-22-9578b05da43e>\u001b[0m in \u001b[0;36m<cell line: 0>\u001b[0;34m()\u001b[0m\n\u001b[1;32m      1\u001b[0m \u001b[0;31m#9. How can you read a file line by line and store its content in a list in Python\u001b[0m\u001b[0;34m\u001b[0m\u001b[0;34m\u001b[0m\u001b[0m\n\u001b[1;32m      2\u001b[0m \u001b[0;34m\u001b[0m\u001b[0m\n\u001b[0;32m----> 3\u001b[0;31m \u001b[0;32mwith\u001b[0m \u001b[0mopen\u001b[0m\u001b[0;34m(\u001b[0m\u001b[0;34m\"example.txt\"\u001b[0m\u001b[0;34m,\u001b[0m \u001b[0;34m\"r\"\u001b[0m\u001b[0;34m)\u001b[0m \u001b[0;32mas\u001b[0m \u001b[0mfile\u001b[0m\u001b[0;34m:\u001b[0m\u001b[0;34m\u001b[0m\u001b[0;34m\u001b[0m\u001b[0m\n\u001b[0m\u001b[1;32m      4\u001b[0m  \u001b[0mlines\u001b[0m \u001b[0;34m=\u001b[0m \u001b[0mfile\u001b[0m\u001b[0;34m.\u001b[0m\u001b[0mreadlines\u001b[0m\u001b[0;34m(\u001b[0m\u001b[0;34m)\u001b[0m\u001b[0;34m\u001b[0m\u001b[0;34m\u001b[0m\u001b[0m\n\u001b[1;32m      5\u001b[0m \u001b[0mlines\u001b[0m \u001b[0;34m=\u001b[0m \u001b[0;34m[\u001b[0m\u001b[0mline\u001b[0m\u001b[0;34m.\u001b[0m\u001b[0mstrip\u001b[0m\u001b[0;34m(\u001b[0m\u001b[0;34m)\u001b[0m \u001b[0;32mfor\u001b[0m \u001b[0mline\u001b[0m \u001b[0;32min\u001b[0m \u001b[0mlines\u001b[0m\u001b[0;34m]\u001b[0m\u001b[0;34m\u001b[0m\u001b[0;34m\u001b[0m\u001b[0m\n",
            "\u001b[0;31mFileNotFoundError\u001b[0m: [Errno 2] No such file or directory: 'example.txt'"
          ]
        }
      ]
    },
    {
      "cell_type": "code",
      "source": [
        "#10. How can you append data to an existing file in Python?\n",
        "\n",
        "with open(\"example.txt\", \"a\") as file:\n",
        "    file.write(\"This line will be added to the end of the file.\\n\")\n",
        "print(\"Data appended successfully.\")\n",
        "\n"
      ],
      "metadata": {
        "colab": {
          "base_uri": "https://localhost:8080/"
        },
        "id": "WtY7V7oc9Jum",
        "outputId": "1a4d42ea-25ff-4831-9321-96d06b4db8e8"
      },
      "execution_count": 24,
      "outputs": [
        {
          "output_type": "stream",
          "name": "stdout",
          "text": [
            "Data appended successfully.\n"
          ]
        }
      ]
    },
    {
      "cell_type": "code",
      "source": [
        "#11. Write a Python program that uses a try-except block to handle an error when attempting to access a\n",
        "#dictionary key that doesn't exist?\n",
        "\n",
        "my_dict = {\"name\": \"JOBA\", \"age\":24}\n",
        "\n",
        "try:\n",
        " value = my_dict[\"NAME,AGE\"]\n",
        " print(\"NAME,AGE\", value)\n",
        "except KeyError:\n",
        "  print(\"The key 'NAME,AGE' does not exist in the dictionary.\")\n"
      ],
      "metadata": {
        "colab": {
          "base_uri": "https://localhost:8080/"
        },
        "id": "ww4cM1Hn96gX",
        "outputId": "da959543-4e23-42b8-bdf9-3b9bee965f2a"
      },
      "execution_count": 27,
      "outputs": [
        {
          "output_type": "stream",
          "name": "stdout",
          "text": [
            "The key 'NAME,AGE' does not exist in the dictionary.\n"
          ]
        }
      ]
    },
    {
      "cell_type": "code",
      "source": [
        "#12. Write a program that demonstrates using multiple except blocks to handle different types of exceptions\n",
        "\n",
        "try:\n",
        "    num = int(input(\"Enter a number: \"))\n",
        "    result = 12 / num\n",
        "    print(\"Result is:\", result)\n",
        "\n",
        "    my_list = [1, 2, 3]\n",
        "    print(\"List element:\", my_list[5])\n",
        "except ValueError:\n",
        "    print(\"Error: Invalid input. Please enter a number.\")\n",
        "except ZeroDivisionError:\n",
        "    print(\"Error: Cannot divide by zero.\")\n",
        "except IndexError:\n",
        "    print(\"Error: List index out of range.\")\n"
      ],
      "metadata": {
        "colab": {
          "base_uri": "https://localhost:8080/"
        },
        "id": "xalhkjfp-g1W",
        "outputId": "4af7ebd2-fc7c-490c-b2b2-7c7edbc333f5"
      },
      "execution_count": 28,
      "outputs": [
        {
          "output_type": "stream",
          "name": "stdout",
          "text": [
            "Enter a number: 5\n",
            "Result is: 2.0\n",
            "Error: List index out of range.\n"
          ]
        }
      ]
    },
    {
      "cell_type": "code",
      "source": [
        "#13. How would you check if a file exists before attempting to read it in Python?\n",
        "\n",
        "import os\n",
        "filename = \"hello.txt\"\n",
        "if os.path.exists(filename):\n",
        "  with open(filename, \"r\") as file:\n",
        "      print(file.read())\n",
        "else:\n",
        "  print(f\"The file '{filename}' does not exist.\")\n",
        "\n"
      ],
      "metadata": {
        "colab": {
          "base_uri": "https://localhost:8080/"
        },
        "id": "7wKCF3qK_N3V",
        "outputId": "b9362817-fb07-439e-a595-e025b38b6c73"
      },
      "execution_count": 1,
      "outputs": [
        {
          "output_type": "stream",
          "name": "stdout",
          "text": [
            "The file 'hello.txt' does not exist.\n"
          ]
        }
      ]
    },
    {
      "cell_type": "code",
      "source": [
        "#14.  Write a program that uses the logging module to log both informational and error messages.\n",
        "\n",
        "import logging\n",
        "logging.basicConfig\n",
        " (filename='app.log',level=logging.Debug,format='%(asctime)s - %(levelname)s - %(message)s)\n",
        "logging.info(\"Program started.\")\n",
        "try:\n",
        "  x = 10 / 0\n",
        "except ZeroDivisionError as e:\n",
        "  logging.error(\"Error occurred: Division by zero\")\n",
        "logging.info(\"Program finished.\")\n"
      ],
      "metadata": {
        "colab": {
          "base_uri": "https://localhost:8080/",
          "height": 106
        },
        "id": "Wcv27h7yo_-l",
        "outputId": "d1770d73-e55b-432c-bdeb-bb471dcc4823"
      },
      "execution_count": 4,
      "outputs": [
        {
          "output_type": "error",
          "ename": "IndentationError",
          "evalue": "unexpected indent (<ipython-input-4-e4f967f71e6d>, line 5)",
          "traceback": [
            "\u001b[0;36m  File \u001b[0;32m\"<ipython-input-4-e4f967f71e6d>\"\u001b[0;36m, line \u001b[0;32m5\u001b[0m\n\u001b[0;31m    (filename='app.log',level=logging.Debug,format='%(asctime)s - %(levelname)s - %(message)s)\u001b[0m\n\u001b[0m    ^\u001b[0m\n\u001b[0;31mIndentationError\u001b[0m\u001b[0;31m:\u001b[0m unexpected indent\n"
          ]
        }
      ]
    },
    {
      "cell_type": "code",
      "source": [
        "#15.Write a Python program that prints the content of a file and handles the case when the file is empty?\n",
        "\n",
        "filename = \"x.txt\"\n",
        "try:\n",
        " with open(filename, \"r\") as file:\n",
        "   content = file.read()\n",
        "   if content.strip():\n",
        "      print(\"File content:\\n\", content)\n",
        "        else:\n",
        "          print(f\"The '{filename}' is empty.\")\n",
        "except FileFoundError:\n",
        "    print(f\"Error: The file '{filename}' does not exist.\")\n"
      ],
      "metadata": {
        "colab": {
          "base_uri": "https://localhost:8080/",
          "height": 106
        },
        "id": "3jMy6rw5pskD",
        "outputId": "c02c7283-a1c5-49ba-c746-13105d460b6f"
      },
      "execution_count": 9,
      "outputs": [
        {
          "output_type": "error",
          "ename": "IndentationError",
          "evalue": "unexpected indent (<ipython-input-9-8a9222c90e73>, line 9)",
          "traceback": [
            "\u001b[0;36m  File \u001b[0;32m\"<ipython-input-9-8a9222c90e73>\"\u001b[0;36m, line \u001b[0;32m9\u001b[0m\n\u001b[0;31m    else:\u001b[0m\n\u001b[0m    ^\u001b[0m\n\u001b[0;31mIndentationError\u001b[0m\u001b[0;31m:\u001b[0m unexpected indent\n"
          ]
        }
      ]
    },
    {
      "cell_type": "code",
      "source": [
        "#16.  Demonstrate how to use memory profiling to check the memory usage of a small program.\n",
        "\n",
        "\n",
        "from memory_profiler import profile\n",
        "@profile\n",
        "def create_list():\n",
        "    data = [i ** 2 for i in range(10000)]\n",
        "    return data\n",
        "if __name__ == \"__main__\":\n",
        "    create_list()\n"
      ],
      "metadata": {
        "colab": {
          "base_uri": "https://localhost:8080/",
          "height": 106
        },
        "id": "1W8zQ1morVTN",
        "outputId": "22bb4918-f39b-4449-fef1-171cbb84cdd9"
      },
      "execution_count": 3,
      "outputs": [
        {
          "output_type": "error",
          "ename": "SyntaxError",
          "evalue": "invalid syntax (<ipython-input-3-db83b7b2ad98>, line 3)",
          "traceback": [
            "\u001b[0;36m  File \u001b[0;32m\"<ipython-input-3-db83b7b2ad98>\"\u001b[0;36m, line \u001b[0;32m3\u001b[0m\n\u001b[0;31m    pip install memory-profiler\u001b[0m\n\u001b[0m        ^\u001b[0m\n\u001b[0;31mSyntaxError\u001b[0m\u001b[0;31m:\u001b[0m invalid syntax\n"
          ]
        }
      ]
    },
    {
      "cell_type": "code",
      "source": [
        "#17.ite a Python program to create and write a list of numbers to a file, one number per line\n",
        "\n",
        "x= [1, 2, 3, 4, 5]\n",
        "with open(\"x.txt\", \"w\") as file:\n",
        "    for num in numbers:\n",
        "        file.write(f\"{num}\\n\")\n",
        "print(\"Numbers written to 'x.txt' .\")\n"
      ],
      "metadata": {
        "colab": {
          "base_uri": "https://localhost:8080/"
        },
        "id": "EqwmhlBH0YTQ",
        "outputId": "2441aeef-710c-4665-a531-b8b7d57ec1e7"
      },
      "execution_count": 6,
      "outputs": [
        {
          "output_type": "stream",
          "name": "stdout",
          "text": [
            "Numbers written to 'x.txt' .\n"
          ]
        }
      ]
    },
    {
      "cell_type": "code",
      "source": [
        "#18. How would you implement a basic logging setup that logs to a file with rotation after 1MB\n",
        "\n",
        "import logging\n",
        "from logging.handlers import RotatingFileHandler\n",
        "handler = RotatingFileHandler(\"app.log\", maxBytes=1024*1024, backupCount=3)\n",
        "handler.setFormatter(logging.Formatter('%(asctime)s - %(levelname)s - %(message)s'))\n",
        "logger = logging.getLogger()\n",
        "logger.setLevel(logging.INFO)\n",
        "logger.addHandler(handler)\n",
        "for i in range(5):\n",
        "    logger.info(f\"Test log message {i}\")\n",
        "\n",
        "\n",
        "\n",
        "\n",
        "\n",
        "\n",
        "\n",
        "\n",
        "\n"
      ],
      "metadata": {
        "colab": {
          "base_uri": "https://localhost:8080/"
        },
        "id": "Lt3z4bLj04sW",
        "outputId": "9180d72e-def5-4d23-e41a-918041336ab1"
      },
      "execution_count": 16,
      "outputs": [
        {
          "output_type": "stream",
          "name": "stderr",
          "text": [
            "INFO:root:Test log message 0\n",
            "INFO:root:Test log message 1\n",
            "INFO:root:Test log message 2\n",
            "INFO:root:Test log message 3\n",
            "INFO:root:Test log message 4\n"
          ]
        }
      ]
    },
    {
      "cell_type": "code",
      "source": [
        "#19.  Write a program that handles both IndexError and KeyError using a try-except block\n",
        "\n",
        "my_list = [1, 2, 3]\n",
        "my_dict = {\"a\": 5, \"b\": 10}\n",
        "\n",
        "try:\n",
        " print(\"List item:\", my_list[5])\n",
        " print(\"Dict item:\", my_dict[\"z\"])\n",
        "except IndexError:\n",
        " print(\"Error: List  out of range.\")\n",
        "except KeyError:\n",
        " print(\"Error: Dictionary key not found.\")\n"
      ],
      "metadata": {
        "colab": {
          "base_uri": "https://localhost:8080/"
        },
        "id": "shEj7cxU1pEB",
        "outputId": "0a1f468a-c667-4ea2-b48a-7090c1c2ad57"
      },
      "execution_count": 17,
      "outputs": [
        {
          "output_type": "stream",
          "name": "stdout",
          "text": [
            "Error: List index out of range.\n"
          ]
        }
      ]
    },
    {
      "cell_type": "code",
      "source": [
        "#20.  How would you open a file and read its contents using a context manager in Python?\n",
        "\n"
      ],
      "metadata": {
        "colab": {
          "base_uri": "https://localhost:8080/",
          "height": 211
        },
        "id": "etWOpaj03a9A",
        "outputId": "08ae2857-271e-4a99-dfd1-1e5d3815a7a7"
      },
      "execution_count": 19,
      "outputs": [
        {
          "output_type": "error",
          "ename": "FileNotFoundError",
          "evalue": "[Errno 2] No such file or directory: 'example.txt'",
          "traceback": [
            "\u001b[0;31m---------------------------------------------------------------------------\u001b[0m",
            "\u001b[0;31mFileNotFoundError\u001b[0m                         Traceback (most recent call last)",
            "\u001b[0;32m<ipython-input-19-2b25691d5fd2>\u001b[0m in \u001b[0;36m<cell line: 0>\u001b[0;34m()\u001b[0m\n\u001b[1;32m      1\u001b[0m \u001b[0;31m#20.  How would you open a file and read its contents using a context manager in Python?\u001b[0m\u001b[0;34m\u001b[0m\u001b[0;34m\u001b[0m\u001b[0m\n\u001b[1;32m      2\u001b[0m \u001b[0;34m\u001b[0m\u001b[0m\n\u001b[0;32m----> 3\u001b[0;31m \u001b[0;32mwith\u001b[0m \u001b[0mopen\u001b[0m\u001b[0;34m(\u001b[0m\u001b[0;34m\"example.txt\"\u001b[0m\u001b[0;34m,\u001b[0m \u001b[0;34m\"r\"\u001b[0m\u001b[0;34m)\u001b[0m \u001b[0;32mas\u001b[0m \u001b[0mfile\u001b[0m\u001b[0;34m:\u001b[0m\u001b[0;34m\u001b[0m\u001b[0;34m\u001b[0m\u001b[0m\n\u001b[0m\u001b[1;32m      4\u001b[0m     \u001b[0mcontent\u001b[0m \u001b[0;34m=\u001b[0m \u001b[0mfile\u001b[0m\u001b[0;34m.\u001b[0m\u001b[0mread\u001b[0m\u001b[0;34m(\u001b[0m\u001b[0;34m)\u001b[0m\u001b[0;34m\u001b[0m\u001b[0;34m\u001b[0m\u001b[0m\n\u001b[1;32m      5\u001b[0m     \u001b[0mprint\u001b[0m\u001b[0;34m(\u001b[0m\u001b[0mcontent\u001b[0m\u001b[0;34m)\u001b[0m\u001b[0;34m\u001b[0m\u001b[0;34m\u001b[0m\u001b[0m\n",
            "\u001b[0;31mFileNotFoundError\u001b[0m: [Errno 2] No such file or directory: 'example.txt'"
          ]
        }
      ]
    },
    {
      "cell_type": "code",
      "source": [
        "#21. Write a Python program that reads a file and prints the number of occurrences of a specific word.\n",
        "\n",
        "filename = \"x.txt\"\n",
        "target_word = \"python\"\n",
        "try:\n",
        " with open(filename, \"r\") as file:\n",
        "  content = file.read().lower()\n",
        "  word_count = content.count(target_word.lower())\n",
        "  print(f\"The word '{target_word}' occurs {word_count} times in '{filename}'.\")\n",
        "except FileNotFoundError:\n",
        "  print(f\"Error: The file '{filename}' was not found.\")\n",
        "\n"
      ],
      "metadata": {
        "colab": {
          "base_uri": "https://localhost:8080/"
        },
        "id": "FVO_ZT4_35Gz",
        "outputId": "859552a0-d82f-43a2-88a2-adf22c4588dd"
      },
      "execution_count": 21,
      "outputs": [
        {
          "output_type": "stream",
          "name": "stdout",
          "text": [
            "The word 'python' occurs 0 times in 'x.txt'.\n"
          ]
        }
      ]
    },
    {
      "cell_type": "code",
      "source": [
        "#22. How can you check if a file is empty before attempting to read its contents?\n",
        "\n",
        "try:\n",
        "  with open(\"x.txt\", \"r\") as file:\n",
        "   content = file.read()\n",
        "   if not content.strip():\n",
        "    print(\"The file is empty.\")\n",
        "    else:\n",
        "     print(\"File content:\\n\", content)\n",
        "except FileNotFoundError:\n",
        "    print(\"File not found.\")\n"
      ],
      "metadata": {
        "colab": {
          "base_uri": "https://localhost:8080/",
          "height": 106
        },
        "id": "HkKTP9sO4WhG",
        "outputId": "5420a60a-d565-494c-bc60-4fbbc2bab1dc"
      },
      "execution_count": 22,
      "outputs": [
        {
          "output_type": "error",
          "ename": "SyntaxError",
          "evalue": "invalid syntax (<ipython-input-22-1bbde44ce61f>, line 8)",
          "traceback": [
            "\u001b[0;36m  File \u001b[0;32m\"<ipython-input-22-1bbde44ce61f>\"\u001b[0;36m, line \u001b[0;32m8\u001b[0m\n\u001b[0;31m    else:\u001b[0m\n\u001b[0m    ^\u001b[0m\n\u001b[0;31mSyntaxError\u001b[0m\u001b[0;31m:\u001b[0m invalid syntax\n"
          ]
        }
      ]
    },
    {
      "cell_type": "code",
      "source": [
        "#23.  Write a Python program that writes to a log file when an error occurs during file handling.\n",
        "\n",
        "import logging\n",
        "logging.basicConfig\n",
        "    (filename=\"file_errors.log\",\n",
        "    level=logging.ERROR,\n",
        "    format=\"%(asctime)s - %(levelname)s - %(message)s\")\n",
        "\n",
        "filename = \"non_existent_file.txt\"\n",
        "try:\n",
        " with open(filename, \"r\") as file:\n",
        "  content = file.read()\n",
        "  print(content)\n",
        "except FileNotFoundError as e:\n",
        "  logging.error(f\"Failed to open file '{filename}': {e}\")\n",
        "  print(\"An error occurred. Check the log file for details.\")\n"
      ],
      "metadata": {
        "colab": {
          "base_uri": "https://localhost:8080/",
          "height": 106
        },
        "id": "isENnaw549jM",
        "outputId": "b4249af7-c434-497e-b66e-55801aa845b7"
      },
      "execution_count": 24,
      "outputs": [
        {
          "output_type": "error",
          "ename": "IndentationError",
          "evalue": "unexpected indent (<ipython-input-24-6195fb03b794>, line 5)",
          "traceback": [
            "\u001b[0;36m  File \u001b[0;32m\"<ipython-input-24-6195fb03b794>\"\u001b[0;36m, line \u001b[0;32m5\u001b[0m\n\u001b[0;31m    (filename=\"file_errors.log\",\u001b[0m\n\u001b[0m    ^\u001b[0m\n\u001b[0;31mIndentationError\u001b[0m\u001b[0;31m:\u001b[0m unexpected indent\n"
          ]
        }
      ]
    },
    {
      "cell_type": "code",
      "source": [],
      "metadata": {
        "id": "vqH6YNUc6Ofv"
      },
      "execution_count": 24,
      "outputs": []
    }
  ]
}